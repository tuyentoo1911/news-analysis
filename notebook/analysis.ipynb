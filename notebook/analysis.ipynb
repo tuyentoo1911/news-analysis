{
 "cells": [
  {
   "cell_type": "code",
   "execution_count": 32,
   "id": "1e9ef191-0be1-4d7f-a284-0122fdeef70c",
   "metadata": {},
   "outputs": [
    {
     "name": "stdout",
     "output_type": "stream",
     "text": [
      "Đã load 54 stopwords.\n"
     ]
    }
   ],
   "source": [
    "import os\n",
    "import json\n",
    "import pandas as pd\n",
    "import re\n",
    "import string\n",
    "from tqdm import tqdm\n",
    "from underthesea import word_tokenize\n",
    "import joblib\n",
    "from sklearn.feature_extraction.text import CountVectorizer\n",
    "from sklearn.model_selection import train_test_split\n",
    "from sklearn.naive_bayes import MultinomialNB\n",
    "from sklearn.pipeline import make_pipeline\n",
    "from sklearn.metrics import classification_report\n",
    "import spacy\n",
    "import networkx as nx\n",
    "from numpy import dot\n",
    "from numpy.linalg import norm\n",
    "import matplotlib.pyplot as plt\n",
    "# Đường dẫn gốc dự án\n",
    "BASE_DIR = r\"D:\\Capstone_TinTuc\"\n",
    "\n",
    "# Load stopwords\n",
    "STOPWORDS_PATH = os.path.join(BASE_DIR, \"vietnamese_stopwords.txt\")\n",
    "with open(STOPWORDS_PATH, \"r\", encoding=\"utf-8\") as f:\n",
    "    stopwords = set(f.read().splitlines())\n",
    "\n",
    "print(f\"Đã load {len(stopwords)} stopwords.\")"
   ]
  },
  {
   "cell_type": "code",
   "execution_count": 13,
   "id": "f3017f95-f760-46ed-8585-8523c2c3bb68",
   "metadata": {},
   "outputs": [],
   "source": []
  },
  {
   "cell_type": "code",
   "execution_count": 22,
   "id": "4d435338-4de7-47c0-825f-dea255025d4b",
   "metadata": {},
   "outputs": [],
   "source": [
    "def clean_text(text):\n",
    "    text = re.sub(r\"\\s+\", \" \", text)\n",
    "    text = re.sub(r\"[^a-zA-ZÀ-Ỵà-ỵ0-9\\s.,!?]\", \"\", text)\n",
    "    text = text.strip()\n",
    "    return word_tokenize(text, format=\"text\")\n",
    "    \n",
    "def process_json_folder_for_training(folder_path, output_csv=None):\n",
    "    if output_csv is None:\n",
    "        output_csv = os.path.join(BASE_DIR, \"data\", \"labeled_data.csv\")\n",
    "\n",
    "    documents = []\n",
    "    filenames = []\n",
    "    labels = []\n",
    "\n",
    "    for file in tqdm(os.listdir(folder_path)):\n",
    "        if file.endswith(\".json\"):\n",
    "            label = file.replace(\".json\", \"\").replace(\"vnexpress_\", \"\")\n",
    "            filepath = os.path.join(folder_path, file)\n",
    "\n",
    "            with open(filepath, \"r\", encoding=\"utf-8\") as f:\n",
    "                data = json.load(f)\n",
    "\n",
    "                for article in data:\n",
    "                    title = article.get(\"title\", \"\").strip()\n",
    "                    content = article.get(\"content\", \"\").strip()\n",
    "                    full_text = f\"{title}. {content}\"\n",
    "\n",
    "                    if full_text.strip():\n",
    "                        documents.append(clean_text(full_text))\n",
    "                        filenames.append(file)\n",
    "                        labels.append(label)\n",
    "\n",
    "    df = pd.DataFrame({\n",
    "        \"filename\": filenames,\n",
    "        \"text\": documents,\n",
    "        \"label\": labels\n",
    "    })\n",
    "\n",
    "    df.to_csv(output_csv, index=False, encoding=\"utf-8-sig\")\n",
    "    print(f\"Đã xử lý xong. Tổng số bài báo: {len(df)}. File lưu: {output_csv}\")\n",
    "    return df"
   ]
  },
  {
   "cell_type": "code",
   "execution_count": 23,
   "id": "49189e15-51a9-49a1-80cc-5c9e97e49d27",
   "metadata": {},
   "outputs": [
    {
     "name": "stderr",
     "output_type": "stream",
     "text": [
      "100%|██████████████████████████████████| 11/11 [05:30<00:00, 30.05s/it]\n"
     ]
    },
    {
     "name": "stdout",
     "output_type": "stream",
     "text": [
      "Đã xử lý xong. Tổng số bài báo: 4685. File lưu: D:\\Capstone_TinTuc\\data\\labeled_data.csv\n"
     ]
    },
    {
     "data": {
      "text/html": [
       "<div>\n",
       "<style scoped>\n",
       "    .dataframe tbody tr th:only-of-type {\n",
       "        vertical-align: middle;\n",
       "    }\n",
       "\n",
       "    .dataframe tbody tr th {\n",
       "        vertical-align: top;\n",
       "    }\n",
       "\n",
       "    .dataframe thead th {\n",
       "        text-align: right;\n",
       "    }\n",
       "</style>\n",
       "<table border=\"1\" class=\"dataframe\">\n",
       "  <thead>\n",
       "    <tr style=\"text-align: right;\">\n",
       "      <th></th>\n",
       "      <th>filename</th>\n",
       "      <th>text</th>\n",
       "      <th>label</th>\n",
       "    </tr>\n",
       "  </thead>\n",
       "  <tbody>\n",
       "    <tr>\n",
       "      <th>0</th>\n",
       "      <td>vnexpress_doi-song.json</td>\n",
       "      <td>Xây phòng lớp mới cho học_sinh miền núi Quảng_...</td>\n",
       "      <td>doi-song</td>\n",
       "    </tr>\n",
       "    <tr>\n",
       "      <th>1</th>\n",
       "      <td>vnexpress_doi-song.json</td>\n",
       "      <td>Ngôi làng tặng nhà 100 m2 cho thanh_niên . Ngà...</td>\n",
       "      <td>doi-song</td>\n",
       "    </tr>\n",
       "    <tr>\n",
       "      <th>2</th>\n",
       "      <td>vnexpress_doi-song.json</td>\n",
       "      <td>Quan_hệ tình_dục nhiều có giúp vợ_chồng hạnh_p...</td>\n",
       "      <td>doi-song</td>\n",
       "    </tr>\n",
       "    <tr>\n",
       "      <th>3</th>\n",
       "      <td>vnexpress_doi-song.json</td>\n",
       "      <td>Mất bao_lâu để quên người_yêu cũ ? . Các chuyê...</td>\n",
       "      <td>doi-song</td>\n",
       "    </tr>\n",
       "    <tr>\n",
       "      <th>4</th>\n",
       "      <td>vnexpress_doi-song.json</td>\n",
       "      <td>Nghề dắt chó đi dạo_VnExpress .</td>\n",
       "      <td>doi-song</td>\n",
       "    </tr>\n",
       "  </tbody>\n",
       "</table>\n",
       "</div>"
      ],
      "text/plain": [
       "                  filename                                               text  \\\n",
       "0  vnexpress_doi-song.json  Xây phòng lớp mới cho học_sinh miền núi Quảng_...   \n",
       "1  vnexpress_doi-song.json  Ngôi làng tặng nhà 100 m2 cho thanh_niên . Ngà...   \n",
       "2  vnexpress_doi-song.json  Quan_hệ tình_dục nhiều có giúp vợ_chồng hạnh_p...   \n",
       "3  vnexpress_doi-song.json  Mất bao_lâu để quên người_yêu cũ ? . Các chuyê...   \n",
       "4  vnexpress_doi-song.json                    Nghề dắt chó đi dạo_VnExpress .   \n",
       "\n",
       "      label  \n",
       "0  doi-song  \n",
       "1  doi-song  \n",
       "2  doi-song  \n",
       "3  doi-song  \n",
       "4  doi-song  "
      ]
     },
     "execution_count": 23,
     "metadata": {},
     "output_type": "execute_result"
    }
   ],
   "source": [
    "folder_path = os.path.join(BASE_DIR, \"data\", \"raw\")  # thư mục chứa các file .json\n",
    "df=process_json_folder_for_training(folder_path)\n",
    "df.head()"
   ]
  },
  {
   "cell_type": "code",
   "execution_count": 33,
   "id": "2c2bb9d2-f590-4b80-a674-bc726462d3e0",
   "metadata": {},
   "outputs": [],
   "source": [
    "def train_and_predict_lda(csv_path):\n",
    "    df = pd.read_csv(csv_path, encoding=\"utf-8-sig\")\n",
    "    \n",
    "    # Chia dữ liệu train/test\n",
    "    X_train, X_test, y_train, y_test = train_test_split(\n",
    "        df[\"text\"], df[\"label\"], test_size=0.2, random_state=42\n",
    "    )\n",
    "    \n",
    "    # Pipeline: Vector hóa + Naive Bayes\n",
    "    clf = make_pipeline(CountVectorizer(), MultinomialNB())\n",
    "    \n",
    "    # Train\n",
    "    clf.fit(X_train, y_train)\n",
    "    \n",
    "    # Dự đoán\n",
    "    y_pred = clf.predict(X_test)\n",
    "    \n",
    "    # Báo cáo kết quả dạng text \n",
    "    report = classification_report(y_test, y_pred)\n",
    "    print(\"- Báo cáo kết quả dạng text\")\n",
    "    print(report)\n",
    "\n",
    "    #báo cáo kết quả dạng dict\n",
    "    report_dict = classification_report(y_test, y_pred, output_dict=True)\n",
    "    print(\"- Báo cáo kết quả dạng dict\")\n",
    "    print(report_dict)\n",
    "    \n",
    "    # Lưu mô hình\n",
    "    save_path = os.path.join(BASE_DIR, \"saved_models\", \"lda_model.joblib\")\n",
    "    os.makedirs(os.path.dirname(save_path), exist_ok=True)\n",
    "    joblib.dump(clf, save_path)\n",
    "    print(f\" Mô hình đã được train và lưu tại: {save_path}\")\n",
    "\n",
    "    # Bước 9: Vẽ biểu đồ\n",
    "    labels = [label for label in report_dict.keys() if label not in (\"accuracy\", \"macro avg\", \"weighted avg\")]\n",
    "    precision = [report_dict[label][\"precision\"] for label in labels]\n",
    "    recall = [report_dict[label][\"recall\"] for label in labels]\n",
    "    f1_score = [report_dict[label][\"f1-score\"] for label in labels]\n",
    "\n",
    "    x = range(len(labels))\n",
    "    plt.figure(figsize=(10, 6))\n",
    "    plt.bar(x, precision, width=0.25, label=\"Precision\")\n",
    "    plt.bar([i+0.25 for i in x], recall, width=0.25, label=\"Recall\")\n",
    "    plt.bar([i+0.5 for i in x], f1_score, width=0.25, label=\"F1-score\")\n",
    "\n",
    "    plt.xticks([i+0.25 for i in x], labels, rotation=45)\n",
    "    plt.ylabel(\"Score\")\n",
    "    plt.title(\"Classification Metrics by Label\")\n",
    "    plt.legend()\n",
    "    plt.tight_layout()\n",
    "    print(\"- Vẽ biểu đồ\")\n",
    "    plt.show()\n",
    "    \n",
    "    return report"
   ]
  },
  {
   "cell_type": "code",
   "execution_count": 34,
   "id": "b561234c-7a3b-4fdb-881d-4fdff2135790",
   "metadata": {},
   "outputs": [
    {
     "name": "stdout",
     "output_type": "stream",
     "text": [
      "- Báo cáo kết quả dạng text\n",
      "              precision    recall  f1-score   support\n",
      "\n",
      "    doi-song       0.83      0.85      0.84       106\n",
      "     du-lich       0.79      0.92      0.85        97\n",
      "    giai-tri       0.96      0.92      0.94        98\n",
      "    giao-duc       0.96      0.84      0.89        86\n",
      "  kinh-doanh       0.81      0.90      0.85        78\n",
      "   phap-luat       0.91      0.88      0.90       103\n",
      "    suc-khoe       0.90      0.91      0.90        85\n",
      "    the-gioi       0.89      0.84      0.86        75\n",
      "    the-thao       0.99      0.95      0.97       102\n",
      "     thoi-su       0.83      0.82      0.83       107\n",
      "\n",
      "    accuracy                           0.88       937\n",
      "   macro avg       0.89      0.88      0.88       937\n",
      "weighted avg       0.89      0.88      0.88       937\n",
      "\n",
      "- Báo cáo kết quả dạng dict\n",
      "{'doi-song': {'precision': 0.8333333333333334, 'recall': 0.8490566037735849, 'f1-score': 0.8411214953271028, 'support': 106.0}, 'du-lich': {'precision': 0.7876106194690266, 'recall': 0.9175257731958762, 'f1-score': 0.8476190476190476, 'support': 97.0}, 'giai-tri': {'precision': 0.9574468085106383, 'recall': 0.9183673469387755, 'f1-score': 0.9375, 'support': 98.0}, 'giao-duc': {'precision': 0.96, 'recall': 0.8372093023255814, 'f1-score': 0.8944099378881988, 'support': 86.0}, 'kinh-doanh': {'precision': 0.813953488372093, 'recall': 0.8974358974358975, 'f1-score': 0.8536585365853658, 'support': 78.0}, 'phap-luat': {'precision': 0.91, 'recall': 0.883495145631068, 'f1-score': 0.896551724137931, 'support': 103.0}, 'suc-khoe': {'precision': 0.8953488372093024, 'recall': 0.9058823529411765, 'f1-score': 0.9005847953216374, 'support': 85.0}, 'the-gioi': {'precision': 0.8873239436619719, 'recall': 0.84, 'f1-score': 0.863013698630137, 'support': 75.0}, 'the-thao': {'precision': 0.9897959183673469, 'recall': 0.9509803921568627, 'f1-score': 0.97, 'support': 102.0}, 'thoi-su': {'precision': 0.8301886792452831, 'recall': 0.822429906542056, 'f1-score': 0.8262910798122066, 'support': 107.0}, 'accuracy': 0.8826040554962646, 'macro avg': {'precision': 0.8865001628168996, 'recall': 0.8822382720940878, 'f1-score': 0.8830750315321627, 'support': 937.0}, 'weighted avg': {'precision': 0.8866414536169136, 'recall': 0.8826040554962646, 'f1-score': 0.8833844767998682, 'support': 937.0}}\n",
      " Mô hình đã được train và lưu tại: D:\\Capstone_TinTuc\\saved_models\\lda_model.joblib\n",
      "- Vẽ biểu đồ\n"
     ]
    },
    {
     "data": {
      "image/png": "[encoded data removed]",
      "text/plain": [
       "<Figure size 1000x600 with 1 Axes>"
      ]
     },
     "metadata": {},
     "output_type": "display_data"
    }
   ],
   "source": [
    "csv_path = os.path.join(BASE_DIR, \"data\", \"labeled_data.csv\")\n",
    "report = train_and_predict_lda(csv_path)"
   ]
  },
  {
   "cell_type": "code",
   "execution_count": 44,
   "id": "0ce43040-d6e7-46c3-a99e-ff7105b42e20",
   "metadata": {},
   "outputs": [],
   "source": [
    "def clean_text(text):\n",
    "    text = re.sub(r\"\\s+\", \" \", text)\n",
    "    text = re.sub(r\"[^a-zA-ZÀ-Ỵà-ỵ0-9\\s.,!?]\", \"\", text)\n",
    "    text = text.strip()\n",
    "    return word_tokenize(text, format=\"text\")\n",
    "\n",
    "def preprocess_new_texts(texts):\n",
    "    if isinstance(texts, str):\n",
    "        texts = [texts]\n",
    "    return [clean_text(t) for t in texts]\n",
    "\n",
    "def predict_with_lda(model_path, new_texts):\n",
    "    clf = joblib.load(model_path)\n",
    "    # Nếu đầu vào là chuỗi đơn, đổi thành list\n",
    "    if isinstance(new_texts, str):\n",
    "        new_texts = [new_texts]\n",
    "    cleaned_texts = preprocess_new_texts(new_texts)\n",
    "    preds = clf.predict(cleaned_texts)\n",
    "    return preds\n"
   ]
  },
  {
   "cell_type": "code",
   "execution_count": 45,
   "id": "60d889b1-a024-44fd-b8e5-5d5e6d6cf4aa",
   "metadata": {},
   "outputs": [
    {
     "name": "stdout",
     "output_type": "stream",
     "text": [
      "Bài báo mẫu:\n",
      "\n",
      "Việt Nam đang phát triển mạnh mẽ trong lĩnh vực công nghệ thông tin.\n",
      "Nhiều doanh nghiệp khởi nghiệp sáng tạo được thành lập với nhiều dự án tiềm năng.\n",
      "Chính phủ cũng đang thúc đẩy đầu tư và phát triển hạ tầng kỹ thuật số.\n",
      "\n",
      "\n",
      "Dự đoán topic:\n",
      "kinh-doanh\n"
     ]
    }
   ],
   "source": [
    "sample_text = \"\"\"\n",
    "Việt Nam đang phát triển mạnh mẽ trong lĩnh vực công nghệ thông tin.\n",
    "Nhiều doanh nghiệp khởi nghiệp sáng tạo được thành lập với nhiều dự án tiềm năng.\n",
    "Chính phủ cũng đang thúc đẩy đầu tư và phát triển hạ tầng kỹ thuật số.\n",
    "\"\"\"\n",
    "\n",
    "# Đường dẫn mô hình\n",
    "model_path = os.path.join(BASE_DIR, \"saved_models\", \"lda_model.joblib\")\n",
    "\n",
    "# Dự đoán cho đoạn bài báo mẫu\n",
    "predicted_label = predict_with_lda(model_path, sample_text)\n",
    "\n",
    "print(\"Bài báo mẫu:\")\n",
    "print(sample_text)\n",
    "print(\"\\nDự đoán topic:\")\n",
    "print(predicted_label[0])\n"
   ]
  },
  {
   "cell_type": "code",
   "execution_count": 46,
   "id": "d1b42e07-76fc-4c4d-870f-c53cb4a6a98c",
   "metadata": {},
   "outputs": [],
   "source": [
    "nlp = spacy.load(\"vi_core_news_lg\")\n",
    "\n",
    "def clean_text_textrank(text: str) -> str:\n",
    "    # Bỏ ký tự đặc biệt và xuống dòng\n",
    "    text = re.sub(r'\\s+', ' ', text)\n",
    "    text = re.sub(r'[^\\w\\s.,]', '', text)  # Giữ dấu chấm, phẩy để chia câu\n",
    "    return text.lower()\n",
    "\n",
    "def cosine_sim(v1, v2):\n",
    "    return dot(v1, v2) / (norm(v1) * norm(v2) + 1e-10)  # +1e-10 tránh chia 0\n",
    "\n",
    "def textrank_summarize(text: str, num_sentences: int = 3) -> str:\n",
    "    cleaned_text = clean_text_textrank(text)\n",
    "    doc = nlp(cleaned_text)\n",
    "    sentences = [sent.text.strip() for sent in doc.sents if sent.text.strip()]\n",
    "    if len(sentences) <= num_sentences:\n",
    "        return text\n",
    "\n",
    "    # Chuyển câu thành vector\n",
    "    sentence_vectors = []\n",
    "    for sent in sentences:\n",
    "        if nlp(sent).has_vector:\n",
    "            sentence_vectors.append(nlp(sent).vector)\n",
    "        else:\n",
    "            sentence_vectors.append(nlp(\"văn bản\").vector)  # fallback nếu không có vector\n",
    "\n",
    "    similarity_matrix = nx.Graph()\n",
    "    for i in range(len(sentences)):\n",
    "        for j in range(i + 1, len(sentences)):\n",
    "            sim = cosine_sim(sentence_vectors[i], sentence_vectors[j])\n",
    "            similarity_matrix.add_edge(i, j, weight=sim)\n",
    "\n",
    "    scores = nx.pagerank(similarity_matrix)\n",
    "    ranked_sentences = sorted(((scores[i], s) for i, s in enumerate(sentences)), reverse=True)\n",
    "    selected = [s for _, s in ranked_sentences[:num_sentences]]\n",
    "    # Sắp xếp theo thứ tự gốc trong văn bản\n",
    "    ordered_summary = [s for s in sentences if s in selected]\n",
    "    return \" \".join(ordered_summary)"
   ]
  },
  {
   "cell_type": "code",
   "execution_count": 47,
   "id": "693ea3d4-be3d-4af9-a286-fa88fa9d6bfd",
   "metadata": {},
   "outputs": [
    {
     "name": "stdout",
     "output_type": "stream",
     "text": [
      "Tóm tắt TextRank:\n",
      "việt nam đang phát triển mạnh mẽ trong lĩnh vực công nghệ thông tin. chính phủ cũng đang thúc đẩy đầu tư và phát triển hạ tầng kỹ thuật số.\n"
     ]
    }
   ],
   "source": [
    "# Ví dụ đoạn văn để test\n",
    "sample_text = \"\"\"\n",
    "Việt Nam đang phát triển mạnh mẽ trong lĩnh vực công nghệ thông tin.\n",
    "Nhiều doanh nghiệp khởi nghiệp sáng tạo được thành lập với nhiều dự án tiềm năng.\n",
    "Chính phủ cũng đang thúc đẩy đầu tư và phát triển hạ tầng kỹ thuật số.\n",
    "\"\"\"\n",
    "\n",
    "summary = textrank_summarize(sample_text, num_sentences=2)\n",
    "print(\"Tóm tắt TextRank:\")\n",
    "print(summary)"
   ]
  },
  {
   "cell_type": "code",
   "execution_count": null,
   "id": "5b3dacf7-91ad-479b-848c-2b293fa84c0a",
   "metadata": {},
   "outputs": [],
   "source": []
  }
 ],
 "metadata": {
  "kernelspec": {
   "display_name": "Python 3 (ipykernel)",
   "language": "python",
   "name": "python3"
  },
  "language_info": {
   "codemirror_mode": {
    "name": "ipython",
    "version": 3
   },
   "file_extension": ".py",
   "mimetype": "text/x-python",
   "name": "python",
   "nbconvert_exporter": "python",
   "pygments_lexer": "ipython3",
   "version": "3.11.9"
  }
 },
 "nbformat": 4,
 "nbformat_minor": 5
}
